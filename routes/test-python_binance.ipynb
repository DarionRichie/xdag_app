{
 "cells": [
  {
   "cell_type": "code",
   "execution_count": 1,
   "metadata": {},
   "outputs": [
    {
     "name": "stdout",
     "output_type": "stream",
     "text": [
      "1\n"
     ]
    }
   ],
   "source": [
    "print(1)"
   ]
  },
  {
   "cell_type": "code",
   "execution_count": 4,
   "metadata": {},
   "outputs": [
    {
     "ename": "ModuleNotFoundError",
     "evalue": "No module named 'binance'",
     "output_type": "error",
     "traceback": [
      "\u001b[0;31m---------------------------------------------------------------------------\u001b[0m",
      "\u001b[0;31mModuleNotFoundError\u001b[0m                       Traceback (most recent call last)",
      "\u001b[0;32m<ipython-input-4-99f66abf1c66>\u001b[0m in \u001b[0;36m<module>\u001b[0;34m\u001b[0m\n\u001b[0;32m----> 1\u001b[0;31m \u001b[0;32mfrom\u001b[0m \u001b[0mbinance\u001b[0m\u001b[0;34m.\u001b[0m\u001b[0mclient\u001b[0m \u001b[0;32mimport\u001b[0m \u001b[0mClient\u001b[0m\u001b[0;34m\u001b[0m\u001b[0;34m\u001b[0m\u001b[0m\n\u001b[0m\u001b[1;32m      2\u001b[0m \u001b[0mclient\u001b[0m \u001b[0;34m=\u001b[0m \u001b[0mClient\u001b[0m\u001b[0;34m(\u001b[0m\u001b[0mapi_key\u001b[0m\u001b[0;34m,\u001b[0m \u001b[0mapi_secret\u001b[0m\u001b[0;34m)\u001b[0m\u001b[0;34m\u001b[0m\u001b[0;34m\u001b[0m\u001b[0m\n\u001b[1;32m      3\u001b[0m \u001b[0;34m\u001b[0m\u001b[0m\n\u001b[1;32m      4\u001b[0m \u001b[0;31m# get market depth\u001b[0m\u001b[0;34m\u001b[0m\u001b[0;34m\u001b[0m\u001b[0;34m\u001b[0m\u001b[0m\n\u001b[1;32m      5\u001b[0m \u001b[0mdepth\u001b[0m \u001b[0;34m=\u001b[0m \u001b[0mclient\u001b[0m\u001b[0;34m.\u001b[0m\u001b[0mget_order_book\u001b[0m\u001b[0;34m(\u001b[0m\u001b[0msymbol\u001b[0m\u001b[0;34m=\u001b[0m\u001b[0;34m'BNBBTC'\u001b[0m\u001b[0;34m)\u001b[0m\u001b[0;34m\u001b[0m\u001b[0;34m\u001b[0m\u001b[0m\n",
      "\u001b[0;31mModuleNotFoundError\u001b[0m: No module named 'binance'"
     ]
    }
   ],
   "source": [
    "from binance.client import Client\n",
    "client = Client(api_key, api_secret)\n",
    "\n",
    "# get market depth\n",
    "depth = client.get_order_book(symbol='BNBBTC')\n",
    "\n",
    "# place a test market buy order, to place an actual order use the create_order function\n",
    "order = client.create_test_order(\n",
    "    symbol='BNBBTC',\n",
    "    side=Client.SIDE_BUY,\n",
    "    type=Client.ORDER_TYPE_MARKET,\n",
    "    quantity=100)\n",
    "\n",
    "# get all symbol prices\n",
    "prices = client.get_all_tickers()\n",
    "\n",
    "# withdraw 100 ETH\n",
    "# check docs for assumptions around withdrawals\n",
    "from binance.exceptions import BinanceAPIException, BinanceWithdrawException\n",
    "try:\n",
    "    result = client.withdraw(\n",
    "        asset='ETH',\n",
    "        address='<eth_address>',\n",
    "        amount=100)\n",
    "except BinanceAPIException as e:\n",
    "    print(e)\n",
    "except BinanceWithdrawException as e:\n",
    "    print(e)\n",
    "else:\n",
    "    print(\"Success\")\n",
    "\n",
    "# fetch list of withdrawals\n",
    "withdraws = client.get_withdraw_history()\n",
    "\n",
    "# fetch list of ETH withdrawals\n",
    "eth_withdraws = client.get_withdraw_history(asset='ETH')\n",
    "\n",
    "# get a deposit address for BTC\n",
    "address = client.get_deposit_address(asset='BTC')\n",
    "\n",
    "# start aggregated trade websocket for BNBBTC\n",
    "def process_message(msg):\n",
    "    print(\"message type: {}\".format(msg['e']))\n",
    "    print(msg)\n",
    "    # do something\n",
    "\n",
    "from binance.websockets import BinanceSocketManager\n",
    "bm = BinanceSocketManager(client)\n",
    "bm.start_aggtrade_socket('BNBBTC', process_message)\n",
    "bm.start()\n",
    "\n",
    "# get historical kline data from any date range\n",
    "\n",
    "# fetch 1 minute klines for the last day up until now\n",
    "klines = client.get_historical_klines(\"BNBBTC\", Client.KLINE_INTERVAL_1MINUTE, \"1 day ago UTC\")\n",
    "\n",
    "# fetch 30 minute klines for the last month of 2017\n",
    "klines = client.get_historical_klines(\"ETHBTC\", Client.KLINE_INTERVAL_30MINUTE, \"1 Dec, 2017\", \"1 Jan, 2018\")\n",
    "\n",
    "# fetch weekly klines since it listed\n",
    "klines = client.get_historical_klines(\"NEOBTC\", Client.KLINE_INTERVAL_1WEEK, \"1 Jan, 2017\")"
   ]
  },
  {
   "cell_type": "code",
   "execution_count": null,
   "metadata": {},
   "outputs": [],
   "source": []
  }
 ],
 "metadata": {
  "kernelspec": {
   "display_name": "Python 3",
   "language": "python",
   "name": "python3"
  },
  "language_info": {
   "codemirror_mode": {
    "name": "ipython",
    "version": 3
   },
   "file_extension": ".py",
   "mimetype": "text/x-python",
   "name": "python",
   "nbconvert_exporter": "python",
   "pygments_lexer": "ipython3",
   "version": "3.8.5-final"
  },
  "orig_nbformat": 2
 },
 "nbformat": 4,
 "nbformat_minor": 2
}